{
 "cells": [
  {
   "cell_type": "code",
   "execution_count": 1,
   "metadata": {},
   "outputs": [],
   "source": [
    "import numpy as np\n",
    "from sklearn.model_selection import train_test_split"
   ]
  },
  {
   "cell_type": "code",
   "execution_count": 7,
   "metadata": {},
   "outputs": [
    {
     "data": {
      "text/plain": [
       "array([  1,   2,   3,   4,   5,   6,   7,   8,   9,  10,  11,  12,  13,\n",
       "        14,  15,  16,  17,  18,  19,  20,  21,  22,  23,  24,  25,  26,\n",
       "        27,  28,  29,  30,  31,  32,  33,  34,  35,  36,  37,  38,  39,\n",
       "        40,  41,  42,  43,  44,  45,  46,  47,  48,  49,  50,  51,  52,\n",
       "        53,  54,  55,  56,  57,  58,  59,  60,  61,  62,  63,  64,  65,\n",
       "        66,  67,  68,  69,  70,  71,  72,  73,  74,  75,  76,  77,  78,\n",
       "        79,  80,  81,  82,  83,  84,  85,  86,  87,  88,  89,  90,  91,\n",
       "        92,  93,  94,  95,  96,  97,  98,  99, 100])"
      ]
     },
     "execution_count": 7,
     "metadata": {},
     "output_type": "execute_result"
    }
   ],
   "source": [
    "a=np.arange(1,101)\n",
    "a"
   ]
  },
  {
   "cell_type": "code",
   "execution_count": 8,
   "metadata": {},
   "outputs": [
    {
     "data": {
      "text/plain": [
       "array([501, 502, 503, 504, 505, 506, 507, 508, 509, 510, 511, 512, 513,\n",
       "       514, 515, 516, 517, 518, 519, 520, 521, 522, 523, 524, 525, 526,\n",
       "       527, 528, 529, 530, 531, 532, 533, 534, 535, 536, 537, 538, 539,\n",
       "       540, 541, 542, 543, 544, 545, 546, 547, 548, 549, 550, 551, 552,\n",
       "       553, 554, 555, 556, 557, 558, 559, 560, 561, 562, 563, 564, 565,\n",
       "       566, 567, 568, 569, 570, 571, 572, 573, 574, 575, 576, 577, 578,\n",
       "       579, 580, 581, 582, 583, 584, 585, 586, 587, 588, 589, 590, 591,\n",
       "       592, 593, 594, 595, 596, 597, 598, 599, 600])"
      ]
     },
     "execution_count": 8,
     "metadata": {},
     "output_type": "execute_result"
    }
   ],
   "source": [
    "b=np.arange(501,601)\n",
    "b"
   ]
  },
  {
   "cell_type": "code",
   "execution_count": 9,
   "metadata": {},
   "outputs": [
    {
     "data": {
      "text/plain": [
       "[array([ 22,  86,   8,  69,  68,  63,  70,  84,  17,  94,  49,  90,  76,\n",
       "         51,  19,  59,  92,  54,  88,  20,   6,  87,  60,  58,  67,  89,\n",
       "          4,  81,  14,  21,  62,  53,  44,  13,  80,  33,  38,  36,  27,\n",
       "         55,  74,  96,  83,  85,  78,  23,  41,  99,  15,  28,  98,  37,\n",
       "         57,  43,  32,  73,  56,  64,  40,  93,  50,   9,  31, 100,  18,\n",
       "         46,  72,  66,  45,  82,  34,  11,  10,  29,  77]),\n",
       " array([47, 61, 65, 30, 95, 12,  3,  1, 71,  5, 24, 35, 52, 48, 25, 75,  2,\n",
       "         7, 91, 79, 97, 42, 16, 39, 26])]"
      ]
     },
     "execution_count": 9,
     "metadata": {},
     "output_type": "execute_result"
    }
   ],
   "source": [
    "train_test_split(a)"
   ]
  },
  {
   "cell_type": "code",
   "execution_count": 15,
   "metadata": {},
   "outputs": [],
   "source": [
    "a_train,a_test=train_test_split(a)"
   ]
  },
  {
   "cell_type": "code",
   "execution_count": 16,
   "metadata": {},
   "outputs": [
    {
     "data": {
      "text/plain": [
       "((75,), (25,))"
      ]
     },
     "execution_count": 16,
     "metadata": {},
     "output_type": "execute_result"
    }
   ],
   "source": [
    "a_train.shape,a_test.shape"
   ]
  },
  {
   "cell_type": "code",
   "execution_count": 20,
   "metadata": {},
   "outputs": [
    {
     "data": {
      "text/plain": [
       "array([ 20,  45,  10,  34,  56,  63,  66,   7,  77,   5,  53,  28,  80,\n",
       "        91,  83,  85,  40,   8,  36,   6,  17,   3,  31, 100,  25,  67,\n",
       "        47,  70,  71,  23,  27,   2,  32,  64,  79,  88,   4,  95,  55,\n",
       "        51,  37,  94,  42,  73,  90,  92,  65,  35,  49,  62,  87,  30,\n",
       "        50,  44,  89,  59,   1,  52,  12,  57,  22,  69,  33,  29,  93,\n",
       "        99,  96,  46,  39,   9,  15,  72,  11,  81,  86])"
      ]
     },
     "execution_count": 20,
     "metadata": {},
     "output_type": "execute_result"
    }
   ],
   "source": [
    "a_train"
   ]
  },
  {
   "cell_type": "code",
   "execution_count": 21,
   "metadata": {},
   "outputs": [
    {
     "data": {
      "text/plain": [
       "array([84, 16, 14, 18, 21, 82, 75, 68, 76, 41, 54, 38, 48, 97, 60, 26, 19,\n",
       "       61, 24, 98, 58, 13, 78, 43, 74])"
      ]
     },
     "execution_count": 21,
     "metadata": {},
     "output_type": "execute_result"
    }
   ],
   "source": [
    "a_test"
   ]
  },
  {
   "cell_type": "code",
   "execution_count": 22,
   "metadata": {},
   "outputs": [],
   "source": [
    "a_train,a_test=train_test_split(a,test_size=0.2)        #Its split the 80 and 20 bcoz test size is o.2 i.e.20 or 20%"
   ]
  },
  {
   "cell_type": "code",
   "execution_count": 23,
   "metadata": {},
   "outputs": [
    {
     "data": {
      "text/plain": [
       "array([ 99,   6,  61,  38,  42,  89,  30,  36,  11,  44,   7,  76,  21,\n",
       "        67,  49, 100,  95,  10,  72,  78,  81,  77,  87,  22,  15,  45,\n",
       "        75,  32,  17,  60,  56,  94,  24,  97,  53,  43,  28,  33,  62,\n",
       "        54,   9,  51,   1,  66,  69,   4,  47,  90,  52,  73,  39,  31,\n",
       "        20,  85,  98,  37,  18,  65,  59,  26,  84,  16,  41,  86,  83,\n",
       "        50,   2,  79,  63,  19,   8,  92,  68,  12,  74,  58,  46,  71,\n",
       "        64,  27])"
      ]
     },
     "execution_count": 23,
     "metadata": {},
     "output_type": "execute_result"
    }
   ],
   "source": [
    "a_train"
   ]
  },
  {
   "cell_type": "code",
   "execution_count": 24,
   "metadata": {},
   "outputs": [
    {
     "data": {
      "text/plain": [
       "array([35, 13, 70, 34,  5, 82, 23, 29, 93, 48, 88, 96, 57, 91, 14, 40, 55,\n",
       "       80,  3, 25])"
      ]
     },
     "execution_count": 24,
     "metadata": {},
     "output_type": "execute_result"
    }
   ],
   "source": [
    "a_test"
   ]
  },
  {
   "cell_type": "code",
   "execution_count": 25,
   "metadata": {},
   "outputs": [],
   "source": [
    "a_train,a_test=train_test_split(a,test_size=0.2,random_state=45)       #random state is state of train or test its not change."
   ]
  },
  {
   "cell_type": "code",
   "execution_count": 26,
   "metadata": {},
   "outputs": [
    {
     "data": {
      "text/plain": [
       "array([46, 10, 21, 19, 74, 20, 26, 22, 71, 24, 98, 91, 30, 68,  6, 83, 29,\n",
       "       44, 64, 67, 45, 51, 59, 56, 97, 28, 40, 23, 81, 72, 42, 49, 48, 80,\n",
       "       53, 17, 55, 90, 65, 60, 14, 50, 84, 41, 12, 43,  7, 78, 95, 87, 94,\n",
       "       32, 37, 89, 57, 99, 92, 18, 82, 25, 35, 13, 88,  9, 47, 73, 58, 54,\n",
       "       15, 66, 16, 69, 36, 86, 62, 96, 33,  4, 31, 76])"
      ]
     },
     "execution_count": 26,
     "metadata": {},
     "output_type": "execute_result"
    }
   ],
   "source": [
    "a_train"
   ]
  },
  {
   "cell_type": "code",
   "execution_count": 27,
   "metadata": {},
   "outputs": [
    {
     "data": {
      "text/plain": [
       "array([  1,   2,  63,  77,  38, 100,  79,  39,   3,  85,  61,  27,  70,\n",
       "        34,  52,   5,  93,   8,  11,  75])"
      ]
     },
     "execution_count": 27,
     "metadata": {},
     "output_type": "execute_result"
    }
   ],
   "source": [
    "a_test"
   ]
  },
  {
   "cell_type": "code",
   "execution_count": 28,
   "metadata": {},
   "outputs": [],
   "source": [
    "# With two variable at time"
   ]
  },
  {
   "cell_type": "code",
   "execution_count": 29,
   "metadata": {},
   "outputs": [],
   "source": [
    "a_train,a_test,b_train,b_test=train_test_split(a,b,test_size=0.2,random_state=120)"
   ]
  },
  {
   "cell_type": "code",
   "execution_count": 30,
   "metadata": {},
   "outputs": [
    {
     "data": {
      "text/plain": [
       "array([ 58,  65,  41,  52,  30,  43,  91,  87,  86,  26,   2,  77,  21,\n",
       "        47,  97,  23,  44,  64,  92,  49,  82,  63,  12,  71,   5,  95,\n",
       "        75,  60,  61,  76,  98,  22,  28,  10,  55,  18,  72,  68,  25,\n",
       "        90,  83, 100,  70,  99,  80,  16,  89,  53,   7,  54,   9,  74,\n",
       "        14,  35,  59,  84,  27,  29,   3,  51,  46,   8,  38,  69,  78,\n",
       "        15,  93,  20,  34,  24,  45,  50,  85,  57,  48,  11,  96,  31,\n",
       "         1,  40])"
      ]
     },
     "execution_count": 30,
     "metadata": {},
     "output_type": "execute_result"
    }
   ],
   "source": [
    "a_train"
   ]
  },
  {
   "cell_type": "code",
   "execution_count": 32,
   "metadata": {},
   "outputs": [
    {
     "data": {
      "text/plain": [
       "array([558, 565, 541, 552, 530, 543, 591, 587, 586, 526, 502, 577, 521,\n",
       "       547, 597, 523, 544, 564, 592, 549, 582, 563, 512, 571, 505, 595,\n",
       "       575, 560, 561, 576, 598, 522, 528, 510, 555, 518, 572, 568, 525,\n",
       "       590, 583, 600, 570, 599, 580, 516, 589, 553, 507, 554, 509, 574,\n",
       "       514, 535, 559, 584, 527, 529, 503, 551, 546, 508, 538, 569, 578,\n",
       "       515, 593, 520, 534, 524, 545, 550, 585, 557, 548, 511, 596, 531,\n",
       "       501, 540])"
      ]
     },
     "execution_count": 32,
     "metadata": {},
     "output_type": "execute_result"
    }
   ],
   "source": [
    "b_train                                                                      #Both are same."
   ]
  },
  {
   "cell_type": "code",
   "execution_count": 33,
   "metadata": {},
   "outputs": [
    {
     "data": {
      "text/plain": [
       "array([81, 39,  6, 62, 94, 67, 42, 66,  4, 73, 33, 56, 88, 36, 13, 17, 32,\n",
       "       79, 37, 19])"
      ]
     },
     "execution_count": 33,
     "metadata": {},
     "output_type": "execute_result"
    }
   ],
   "source": [
    "a_test"
   ]
  },
  {
   "cell_type": "code",
   "execution_count": 34,
   "metadata": {},
   "outputs": [
    {
     "data": {
      "text/plain": [
       "array([581, 539, 506, 562, 594, 567, 542, 566, 504, 573, 533, 556, 588,\n",
       "       536, 513, 517, 532, 579, 537, 519])"
      ]
     },
     "execution_count": 34,
     "metadata": {},
     "output_type": "execute_result"
    }
   ],
   "source": [
    "b_test"
   ]
  }
 ],
 "metadata": {
  "kernelspec": {
   "display_name": "Python 3",
   "language": "python",
   "name": "python3"
  },
  "language_info": {
   "codemirror_mode": {
    "name": "ipython",
    "version": 3
   },
   "file_extension": ".py",
   "mimetype": "text/x-python",
   "name": "python",
   "nbconvert_exporter": "python",
   "pygments_lexer": "ipython3",
   "version": "3.6.5"
  }
 },
 "nbformat": 4,
 "nbformat_minor": 2
}
